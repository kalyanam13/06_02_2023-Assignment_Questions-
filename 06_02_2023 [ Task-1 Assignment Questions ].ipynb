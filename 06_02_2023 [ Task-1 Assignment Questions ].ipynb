{
 "cells": [
  {
   "cell_type": "markdown",
   "id": "6ea0e281",
   "metadata": {},
   "source": [
    "### Question no.1: Create a function which will take a list as an argument and return the product of all the numbers after creating a flat list.\n",
    "### Use the below-given list as an argument for your function.\n",
    "### list1=[1,2,3,4,[44,55,66,True],False,(34,56,78,89,34),{1,2,3,3,2,1},{1:34,\"key2\":[55,67,78,89],4:(45,22,61,34)},[56,'data science'],'Machine Learning']\n",
    "### Note:you must extract numeric keys and values of the dictionary also.\n",
    "### Answer:"
   ]
  },
  {
   "cell_type": "code",
   "execution_count": 2,
   "id": "3162a2b2",
   "metadata": {},
   "outputs": [],
   "source": [
    "list1 = [1,2,3,4,[44,55,66,True],False,(34,56,78,89,34),{1,2,3,3,2,1},{1:34,\"key2\":[55,67,78,89],4:(45,22,61,34)},[56,'data science'],'Machine Learning']"
   ]
  },
  {
   "cell_type": "code",
   "execution_count": 6,
   "id": "aea2f233",
   "metadata": {},
   "outputs": [],
   "source": [
    "def get_flat_list(*args):\n",
    "    flat_list = []\n",
    "    for items in list1:\n",
    "        if type(items) == int:\n",
    "            flat_list.append(items)\n",
    "        elif type(items) == list:\n",
    "            for sub_item in items:\n",
    "                if type(sub_item) == int:\n",
    "                    flat_list.append(sub_item)\n",
    "        elif type(items) == str:\n",
    "            pass\n",
    "        elif type(items) == tuple:\n",
    "            for sub_item in items:\n",
    "                if type(sub_item) == int:\n",
    "                    flat_list.append(sub_item)\n",
    "        elif type(items) == set:\n",
    "            for sub_item in items:\n",
    "                if type(sub_item) == int:\n",
    "                    flat_list.append(sub_item)\n",
    "        elif type(items) == dict:\n",
    "            for sub_item in items:\n",
    "                if type(sub_item) == int:\n",
    "                    flat_list.append(sub_item)\n",
    "                if type(items[sub_item]) == int:\n",
    "                    flat_list.append(items[sub_item])\n",
    "                if type(sub_item) == str:\n",
    "                    pass\n",
    "                if type(items[sub_item]) == list or type(items[sub_item]) == tuple:\n",
    "                    for i in items[sub_item]:\n",
    "                        flat_list.append(i)\n",
    "        elif type(items) == list:\n",
    "            for sub_item in items:\n",
    "                if type(sub_item) == int:\n",
    "                    flat_list.append(sub_item)\n",
    "        else:\n",
    "            pass\n",
    "        \n",
    "    print(flat_list)\n",
    "    value = 1\n",
    "    for i in flat_list:\n",
    "        value*=i\n",
    "    return value    \n",
    "                        \n",
    "                "
   ]
  },
  {
   "cell_type": "code",
   "execution_count": 7,
   "id": "86b07e70",
   "metadata": {},
   "outputs": [
    {
     "name": "stdout",
     "output_type": "stream",
     "text": [
      "[1, 2, 3, 4, 44, 55, 66, 34, 56, 78, 89, 34, 1, 2, 3, 1, 34, 55, 67, 78, 89, 4, 45, 22, 61, 34, 56]\n"
     ]
    },
    {
     "data": {
      "text/plain": [
       "4134711838987085478833841242112000"
      ]
     },
     "execution_count": 7,
     "metadata": {},
     "output_type": "execute_result"
    }
   ],
   "source": [
    "get_flat_list([1,2,3,4,[44,55,66,True],False,(34,56,78,89,34),{1,2,3,3,2,1},{1:34,\"key2\":[55,67,78,89],4:(45,22,61,34)},[56,'data science'],'Machine Learning'])"
   ]
  },
  {
   "cell_type": "markdown",
   "id": "33e0ce12",
   "metadata": {},
   "source": [
    "### Question no.2: Write a python program for encrypting a message sent to you by your friend. The logic of encryption should be such that , for a the output should be z. For b, the output should be y.For c, the output should be x respectively. Also , the whitespace should be replaced with dollar sign. Keep the punctuation marks unchanged.\n",
    "\n",
    "### Input sentence: I want to become a Data Scientist.\n",
    "### Encrypt the above input sentence using the program you just created.\n",
    "### Note: Convert the given input sentence into lowercase before encrypting.The final output should be lowercase.\n",
    "### Answer:"
   ]
  },
  {
   "cell_type": "code",
   "execution_count": 26,
   "id": "5b2aa742",
   "metadata": {},
   "outputs": [
    {
     "name": "stdout",
     "output_type": "stream",
     "text": [
      "r$dzmg$gl$yvxlnv$z$wzgz$hxrvmgrhg.\n"
     ]
    }
   ],
   "source": [
    "def encrypt_message(message):\n",
    "    \n",
    "    encrypted_message = \"\"\n",
    "    for char in message:\n",
    "        if char == \" \":\n",
    "            encrypted_message+=\"$\"\n",
    "        elif char.isalpha():\n",
    "            encrypted_char = chr(219 - ord(char))\n",
    "            encrypted_message += encrypted_char.lower()\n",
    "            \n",
    "        else:\n",
    "            encrypted_message += char\n",
    "    return encrypted_message       \n",
    "            \n",
    "message =\"I want to become a Data Scientist.\"  \n",
    "encrypted_message = encrypt_message(message.lower())\n",
    "print(encrypted_message)"
   ]
  },
  {
   "cell_type": "markdown",
   "id": "1340c2c3",
   "metadata": {},
   "source": [
    "### Explanation:\n",
    "\n",
    "### The encrypt_message function takes a message string as input and returns an encrypted version of the message.\n",
    "### The function loops through each character in the message and checks if it is a space, a letter, or a punctuation mark.\n",
    "### If the character is a space, it is replaced with a dollar sign.\n",
    "### If the character is a letter, its ASCII code is subtracted from 219, which gives the ASCII code of the corresponding encrypted character. For example, the ASCII code of \"a\" is 97, so the encrypted character would be the character with ASCII code 219 - 97 = 122, which is \"z\".\n",
    "### The encrypted character is then converted to lowercase and added to the encrypted message.\n",
    "### If the character is a punctuation mark, it is added to the encrypted message unchanged.\n",
    "### The final encrypted message is returned by the function."
   ]
  },
  {
   "cell_type": "code",
   "execution_count": null,
   "id": "760836a4",
   "metadata": {},
   "outputs": [],
   "source": []
  }
 ],
 "metadata": {
  "kernelspec": {
   "display_name": "Python 3 (ipykernel)",
   "language": "python",
   "name": "python3"
  },
  "language_info": {
   "codemirror_mode": {
    "name": "ipython",
    "version": 3
   },
   "file_extension": ".py",
   "mimetype": "text/x-python",
   "name": "python",
   "nbconvert_exporter": "python",
   "pygments_lexer": "ipython3",
   "version": "3.9.13"
  }
 },
 "nbformat": 4,
 "nbformat_minor": 5
}
